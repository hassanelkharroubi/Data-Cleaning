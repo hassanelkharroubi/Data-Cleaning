{
 "cells": [
  {
   "cell_type": "markdown",
   "id": "0c19118a",
   "metadata": {
    "papermill": {
     "duration": 0.009981,
     "end_time": "2022-11-15T00:34:13.706662",
     "exception": false,
     "start_time": "2022-11-15T00:34:13.696681",
     "status": "completed"
    },
    "tags": []
   },
   "source": [
    "**This notebook is an exercise in the [Data Cleaning](https://www.kaggle.com/learn/data-cleaning) course.  You can reference the tutorial at [this link](https://www.kaggle.com/alexisbcook/parsing-dates).**\n",
    "\n",
    "---\n"
   ]
  },
  {
   "cell_type": "markdown",
   "id": "a8670d23",
   "metadata": {
    "papermill": {
     "duration": 0.008023,
     "end_time": "2022-11-15T00:34:13.723248",
     "exception": false,
     "start_time": "2022-11-15T00:34:13.715225",
     "status": "completed"
    },
    "tags": []
   },
   "source": [
    "In this exercise, you'll apply what you learned in the **Parsing dates** tutorial.\n",
    "\n",
    "# Setup\n",
    "\n",
    "The questions below will give you feedback on your work. Run the following cell to set up the feedback system."
   ]
  },
  {
   "cell_type": "code",
   "execution_count": 1,
   "id": "5c049454",
   "metadata": {
    "execution": {
     "iopub.execute_input": "2022-11-15T00:34:13.742221Z",
     "iopub.status.busy": "2022-11-15T00:34:13.741405Z",
     "iopub.status.idle": "2022-11-15T00:34:15.056738Z",
     "shell.execute_reply": "2022-11-15T00:34:15.055468Z"
    },
    "papermill": {
     "duration": 1.32863,
     "end_time": "2022-11-15T00:34:15.060231",
     "exception": false,
     "start_time": "2022-11-15T00:34:13.731601",
     "status": "completed"
    },
    "tags": []
   },
   "outputs": [
    {
     "name": "stdout",
     "output_type": "stream",
     "text": [
      "Setup Complete\n"
     ]
    }
   ],
   "source": [
    "from learntools.core import binder\n",
    "binder.bind(globals())\n",
    "from learntools.data_cleaning.ex3 import *\n",
    "print(\"Setup Complete\")"
   ]
  },
  {
   "cell_type": "markdown",
   "id": "8353a3ac",
   "metadata": {
    "papermill": {
     "duration": 0.008454,
     "end_time": "2022-11-15T00:34:15.078009",
     "exception": false,
     "start_time": "2022-11-15T00:34:15.069555",
     "status": "completed"
    },
    "tags": []
   },
   "source": [
    "# Get our environment set up\n",
    "\n",
    "The first thing we'll need to do is load in the libraries and dataset we'll be using. We'll be working with a dataset containing information on earthquakes that occured between 1965 and 2016."
   ]
  },
  {
   "cell_type": "code",
   "execution_count": 2,
   "id": "cb92aad2",
   "metadata": {
    "execution": {
     "iopub.execute_input": "2022-11-15T00:34:15.096207Z",
     "iopub.status.busy": "2022-11-15T00:34:15.095705Z",
     "iopub.status.idle": "2022-11-15T00:34:15.197239Z",
     "shell.execute_reply": "2022-11-15T00:34:15.196029Z"
    },
    "papermill": {
     "duration": 0.114185,
     "end_time": "2022-11-15T00:34:15.200341",
     "exception": false,
     "start_time": "2022-11-15T00:34:15.086156",
     "status": "completed"
    },
    "tags": []
   },
   "outputs": [],
   "source": [
    "# modules we'll use\n",
    "import pandas as pd\n",
    "import numpy as np\n",
    "import seaborn as sns\n",
    "import datetime\n",
    "\n",
    "# read in our data\n",
    "earthquakes = pd.read_csv(\"../input/earthquake-database/database.csv\")\n",
    "\n",
    "# set seed for reproducibility\n",
    "np.random.seed(0)"
   ]
  },
  {
   "cell_type": "markdown",
   "id": "1b8ce0a3",
   "metadata": {
    "papermill": {
     "duration": 0.00982,
     "end_time": "2022-11-15T00:34:15.226106",
     "exception": false,
     "start_time": "2022-11-15T00:34:15.216286",
     "status": "completed"
    },
    "tags": []
   },
   "source": [
    "# 1) Check the data type of our date column\n",
    "\n",
    "You'll be working with the \"Date\" column from the `earthquakes` dataframe.  Investigate this column now: does it look like it contains dates?  What is the dtype of the column?"
   ]
  },
  {
   "cell_type": "code",
   "execution_count": 3,
   "id": "59783ddc",
   "metadata": {
    "execution": {
     "iopub.execute_input": "2022-11-15T00:34:15.245938Z",
     "iopub.status.busy": "2022-11-15T00:34:15.245212Z",
     "iopub.status.idle": "2022-11-15T00:34:15.256074Z",
     "shell.execute_reply": "2022-11-15T00:34:15.254415Z"
    },
    "papermill": {
     "duration": 0.023798,
     "end_time": "2022-11-15T00:34:15.258403",
     "exception": false,
     "start_time": "2022-11-15T00:34:15.234605",
     "status": "completed"
    },
    "tags": []
   },
   "outputs": [
    {
     "data": {
      "text/plain": [
       "dtype('O')"
      ]
     },
     "execution_count": 3,
     "metadata": {},
     "output_type": "execute_result"
    }
   ],
   "source": [
    "# TODO: Your code here!\n",
    "earthquakes[\"Date\"].dtype\n"
   ]
  },
  {
   "cell_type": "markdown",
   "id": "5559c1db",
   "metadata": {
    "papermill": {
     "duration": 0.008063,
     "end_time": "2022-11-15T00:34:15.275094",
     "exception": false,
     "start_time": "2022-11-15T00:34:15.267031",
     "status": "completed"
    },
    "tags": []
   },
   "source": [
    "Once you have answered the question above, run the code cell below to get credit for your work."
   ]
  },
  {
   "cell_type": "code",
   "execution_count": 4,
   "id": "04b9de49",
   "metadata": {
    "execution": {
     "iopub.execute_input": "2022-11-15T00:34:15.296800Z",
     "iopub.status.busy": "2022-11-15T00:34:15.296326Z",
     "iopub.status.idle": "2022-11-15T00:34:15.305043Z",
     "shell.execute_reply": "2022-11-15T00:34:15.303733Z"
    },
    "papermill": {
     "duration": 0.023645,
     "end_time": "2022-11-15T00:34:15.307187",
     "exception": false,
     "start_time": "2022-11-15T00:34:15.283542",
     "status": "completed"
    },
    "tags": []
   },
   "outputs": [
    {
     "data": {
      "application/javascript": [
       "parent.postMessage({\"jupyterEvent\": \"custom.exercise_interaction\", \"data\": {\"outcomeType\": 1, \"valueTowardsCompletion\": 0.25, \"interactionType\": 1, \"questionType\": 4, \"questionId\": \"1_CheckDtype\", \"learnToolsVersion\": \"0.3.4\", \"failureMessage\": \"\", \"exceptionClass\": \"\", \"trace\": \"\"}}, \"*\")"
      ],
      "text/plain": [
       "<IPython.core.display.Javascript object>"
      ]
     },
     "metadata": {},
     "output_type": "display_data"
    },
    {
     "data": {
      "text/markdown": [
       "<span style=\"color:#33cc33\">Correct:</span> \n",
       "\n",
       "The \"Date\" column in the `earthquakes` DataFrame does have dates.  The dtype is \"object\"."
      ],
      "text/plain": [
       "Correct: \n",
       "\n",
       "The \"Date\" column in the `earthquakes` DataFrame does have dates.  The dtype is \"object\"."
      ]
     },
     "metadata": {},
     "output_type": "display_data"
    }
   ],
   "source": [
    "# Check your answer (Run this code cell to receive credit!)\n",
    "q1.check()"
   ]
  },
  {
   "cell_type": "code",
   "execution_count": 5,
   "id": "0e80a7e0",
   "metadata": {
    "execution": {
     "iopub.execute_input": "2022-11-15T00:34:15.326205Z",
     "iopub.status.busy": "2022-11-15T00:34:15.325748Z",
     "iopub.status.idle": "2022-11-15T00:34:15.330070Z",
     "shell.execute_reply": "2022-11-15T00:34:15.328957Z"
    },
    "papermill": {
     "duration": 0.016659,
     "end_time": "2022-11-15T00:34:15.332313",
     "exception": false,
     "start_time": "2022-11-15T00:34:15.315654",
     "status": "completed"
    },
    "tags": []
   },
   "outputs": [],
   "source": [
    "# Line below will give you a hint\n",
    "#q1.hint()"
   ]
  },
  {
   "cell_type": "markdown",
   "id": "65124a46",
   "metadata": {
    "papermill": {
     "duration": 0.008242,
     "end_time": "2022-11-15T00:34:15.349393",
     "exception": false,
     "start_time": "2022-11-15T00:34:15.341151",
     "status": "completed"
    },
    "tags": []
   },
   "source": [
    "# 2) Convert our date columns to datetime\n",
    "\n",
    "Most of the entries in the \"Date\" column follow the same format: \"month/day/four-digit year\".  However, the entry at index 3378 follows a completely different pattern.  Run the code cell below to see this."
   ]
  },
  {
   "cell_type": "code",
   "execution_count": 6,
   "id": "58f186a4",
   "metadata": {
    "execution": {
     "iopub.execute_input": "2022-11-15T00:34:15.368883Z",
     "iopub.status.busy": "2022-11-15T00:34:15.368113Z",
     "iopub.status.idle": "2022-11-15T00:34:15.401985Z",
     "shell.execute_reply": "2022-11-15T00:34:15.400801Z"
    },
    "papermill": {
     "duration": 0.046449,
     "end_time": "2022-11-15T00:34:15.404439",
     "exception": false,
     "start_time": "2022-11-15T00:34:15.357990",
     "status": "completed"
    },
    "tags": []
   },
   "outputs": [
    {
     "data": {
      "text/html": [
       "<div>\n",
       "<style scoped>\n",
       "    .dataframe tbody tr th:only-of-type {\n",
       "        vertical-align: middle;\n",
       "    }\n",
       "\n",
       "    .dataframe tbody tr th {\n",
       "        vertical-align: top;\n",
       "    }\n",
       "\n",
       "    .dataframe thead th {\n",
       "        text-align: right;\n",
       "    }\n",
       "</style>\n",
       "<table border=\"1\" class=\"dataframe\">\n",
       "  <thead>\n",
       "    <tr style=\"text-align: right;\">\n",
       "      <th></th>\n",
       "      <th>Date</th>\n",
       "      <th>Time</th>\n",
       "      <th>Latitude</th>\n",
       "      <th>Longitude</th>\n",
       "      <th>Type</th>\n",
       "      <th>Depth</th>\n",
       "      <th>Depth Error</th>\n",
       "      <th>Depth Seismic Stations</th>\n",
       "      <th>Magnitude</th>\n",
       "      <th>Magnitude Type</th>\n",
       "      <th>...</th>\n",
       "      <th>Magnitude Seismic Stations</th>\n",
       "      <th>Azimuthal Gap</th>\n",
       "      <th>Horizontal Distance</th>\n",
       "      <th>Horizontal Error</th>\n",
       "      <th>Root Mean Square</th>\n",
       "      <th>ID</th>\n",
       "      <th>Source</th>\n",
       "      <th>Location Source</th>\n",
       "      <th>Magnitude Source</th>\n",
       "      <th>Status</th>\n",
       "    </tr>\n",
       "  </thead>\n",
       "  <tbody>\n",
       "    <tr>\n",
       "      <th>3378</th>\n",
       "      <td>1975-02-23T02:58:41.000Z</td>\n",
       "      <td>1975-02-23T02:58:41.000Z</td>\n",
       "      <td>8.017</td>\n",
       "      <td>124.075</td>\n",
       "      <td>Earthquake</td>\n",
       "      <td>623.0</td>\n",
       "      <td>NaN</td>\n",
       "      <td>NaN</td>\n",
       "      <td>5.6</td>\n",
       "      <td>MB</td>\n",
       "      <td>...</td>\n",
       "      <td>NaN</td>\n",
       "      <td>NaN</td>\n",
       "      <td>NaN</td>\n",
       "      <td>NaN</td>\n",
       "      <td>NaN</td>\n",
       "      <td>USP0000A09</td>\n",
       "      <td>US</td>\n",
       "      <td>US</td>\n",
       "      <td>US</td>\n",
       "      <td>Reviewed</td>\n",
       "    </tr>\n",
       "    <tr>\n",
       "      <th>3379</th>\n",
       "      <td>02/23/1975</td>\n",
       "      <td>03:53:36</td>\n",
       "      <td>-21.727</td>\n",
       "      <td>-71.356</td>\n",
       "      <td>Earthquake</td>\n",
       "      <td>33.0</td>\n",
       "      <td>NaN</td>\n",
       "      <td>NaN</td>\n",
       "      <td>5.6</td>\n",
       "      <td>MB</td>\n",
       "      <td>...</td>\n",
       "      <td>NaN</td>\n",
       "      <td>NaN</td>\n",
       "      <td>NaN</td>\n",
       "      <td>NaN</td>\n",
       "      <td>NaN</td>\n",
       "      <td>USP0000A0A</td>\n",
       "      <td>US</td>\n",
       "      <td>US</td>\n",
       "      <td>US</td>\n",
       "      <td>Reviewed</td>\n",
       "    </tr>\n",
       "    <tr>\n",
       "      <th>3380</th>\n",
       "      <td>02/23/1975</td>\n",
       "      <td>07:34:11</td>\n",
       "      <td>-10.879</td>\n",
       "      <td>166.667</td>\n",
       "      <td>Earthquake</td>\n",
       "      <td>33.0</td>\n",
       "      <td>NaN</td>\n",
       "      <td>NaN</td>\n",
       "      <td>5.5</td>\n",
       "      <td>MS</td>\n",
       "      <td>...</td>\n",
       "      <td>NaN</td>\n",
       "      <td>NaN</td>\n",
       "      <td>NaN</td>\n",
       "      <td>NaN</td>\n",
       "      <td>NaN</td>\n",
       "      <td>USP0000A0C</td>\n",
       "      <td>US</td>\n",
       "      <td>US</td>\n",
       "      <td>US</td>\n",
       "      <td>Reviewed</td>\n",
       "    </tr>\n",
       "    <tr>\n",
       "      <th>3381</th>\n",
       "      <td>02/25/1975</td>\n",
       "      <td>05:20:05</td>\n",
       "      <td>-7.388</td>\n",
       "      <td>149.798</td>\n",
       "      <td>Earthquake</td>\n",
       "      <td>33.0</td>\n",
       "      <td>NaN</td>\n",
       "      <td>NaN</td>\n",
       "      <td>5.5</td>\n",
       "      <td>MB</td>\n",
       "      <td>...</td>\n",
       "      <td>NaN</td>\n",
       "      <td>NaN</td>\n",
       "      <td>NaN</td>\n",
       "      <td>NaN</td>\n",
       "      <td>NaN</td>\n",
       "      <td>USP0000A12</td>\n",
       "      <td>US</td>\n",
       "      <td>US</td>\n",
       "      <td>US</td>\n",
       "      <td>Reviewed</td>\n",
       "    </tr>\n",
       "    <tr>\n",
       "      <th>3382</th>\n",
       "      <td>02/26/1975</td>\n",
       "      <td>04:48:55</td>\n",
       "      <td>85.047</td>\n",
       "      <td>97.969</td>\n",
       "      <td>Earthquake</td>\n",
       "      <td>33.0</td>\n",
       "      <td>NaN</td>\n",
       "      <td>NaN</td>\n",
       "      <td>5.6</td>\n",
       "      <td>MS</td>\n",
       "      <td>...</td>\n",
       "      <td>NaN</td>\n",
       "      <td>NaN</td>\n",
       "      <td>NaN</td>\n",
       "      <td>NaN</td>\n",
       "      <td>NaN</td>\n",
       "      <td>USP0000A1H</td>\n",
       "      <td>US</td>\n",
       "      <td>US</td>\n",
       "      <td>US</td>\n",
       "      <td>Reviewed</td>\n",
       "    </tr>\n",
       "  </tbody>\n",
       "</table>\n",
       "<p>5 rows × 21 columns</p>\n",
       "</div>"
      ],
      "text/plain": [
       "                          Date                      Time  Latitude  Longitude  \\\n",
       "3378  1975-02-23T02:58:41.000Z  1975-02-23T02:58:41.000Z     8.017    124.075   \n",
       "3379                02/23/1975                  03:53:36   -21.727    -71.356   \n",
       "3380                02/23/1975                  07:34:11   -10.879    166.667   \n",
       "3381                02/25/1975                  05:20:05    -7.388    149.798   \n",
       "3382                02/26/1975                  04:48:55    85.047     97.969   \n",
       "\n",
       "            Type  Depth  Depth Error  Depth Seismic Stations  Magnitude  \\\n",
       "3378  Earthquake  623.0          NaN                     NaN        5.6   \n",
       "3379  Earthquake   33.0          NaN                     NaN        5.6   \n",
       "3380  Earthquake   33.0          NaN                     NaN        5.5   \n",
       "3381  Earthquake   33.0          NaN                     NaN        5.5   \n",
       "3382  Earthquake   33.0          NaN                     NaN        5.6   \n",
       "\n",
       "     Magnitude Type  ...  Magnitude Seismic Stations  Azimuthal Gap  \\\n",
       "3378             MB  ...                         NaN            NaN   \n",
       "3379             MB  ...                         NaN            NaN   \n",
       "3380             MS  ...                         NaN            NaN   \n",
       "3381             MB  ...                         NaN            NaN   \n",
       "3382             MS  ...                         NaN            NaN   \n",
       "\n",
       "      Horizontal Distance  Horizontal Error  Root Mean Square          ID  \\\n",
       "3378                  NaN               NaN               NaN  USP0000A09   \n",
       "3379                  NaN               NaN               NaN  USP0000A0A   \n",
       "3380                  NaN               NaN               NaN  USP0000A0C   \n",
       "3381                  NaN               NaN               NaN  USP0000A12   \n",
       "3382                  NaN               NaN               NaN  USP0000A1H   \n",
       "\n",
       "     Source Location Source Magnitude Source    Status  \n",
       "3378     US              US               US  Reviewed  \n",
       "3379     US              US               US  Reviewed  \n",
       "3380     US              US               US  Reviewed  \n",
       "3381     US              US               US  Reviewed  \n",
       "3382     US              US               US  Reviewed  \n",
       "\n",
       "[5 rows x 21 columns]"
      ]
     },
     "execution_count": 6,
     "metadata": {},
     "output_type": "execute_result"
    }
   ],
   "source": [
    "earthquakes[3378:3383]"
   ]
  },
  {
   "cell_type": "markdown",
   "id": "7cdc42c1",
   "metadata": {
    "papermill": {
     "duration": 0.0087,
     "end_time": "2022-11-15T00:34:15.422232",
     "exception": false,
     "start_time": "2022-11-15T00:34:15.413532",
     "status": "completed"
    },
    "tags": []
   },
   "source": [
    "This does appear to be an issue with data entry: ideally, all entries in the column have the same format.  We can get an idea of how widespread this issue is by checking the length of each entry in the \"Date\" column."
   ]
  },
  {
   "cell_type": "code",
   "execution_count": 7,
   "id": "b752cdc5",
   "metadata": {
    "execution": {
     "iopub.execute_input": "2022-11-15T00:34:15.442634Z",
     "iopub.status.busy": "2022-11-15T00:34:15.441401Z",
     "iopub.status.idle": "2022-11-15T00:34:15.461480Z",
     "shell.execute_reply": "2022-11-15T00:34:15.460435Z"
    },
    "papermill": {
     "duration": 0.032518,
     "end_time": "2022-11-15T00:34:15.463661",
     "exception": false,
     "start_time": "2022-11-15T00:34:15.431143",
     "status": "completed"
    },
    "tags": []
   },
   "outputs": [
    {
     "data": {
      "text/plain": [
       "10    23409\n",
       "24        3\n",
       "Name: Date, dtype: int64"
      ]
     },
     "execution_count": 7,
     "metadata": {},
     "output_type": "execute_result"
    }
   ],
   "source": [
    "date_lengths = earthquakes.Date.str.len()\n",
    "date_lengths.value_counts()"
   ]
  },
  {
   "cell_type": "markdown",
   "id": "e8e4b1d0",
   "metadata": {
    "papermill": {
     "duration": 0.008921,
     "end_time": "2022-11-15T00:34:15.481894",
     "exception": false,
     "start_time": "2022-11-15T00:34:15.472973",
     "status": "completed"
    },
    "tags": []
   },
   "source": [
    "Looks like there are two more rows that has a date in a different format.  Run the code cell below to obtain the indices corresponding to those rows and print the data."
   ]
  },
  {
   "cell_type": "code",
   "execution_count": 8,
   "id": "2649de26",
   "metadata": {
    "execution": {
     "iopub.execute_input": "2022-11-15T00:34:15.502170Z",
     "iopub.status.busy": "2022-11-15T00:34:15.501323Z",
     "iopub.status.idle": "2022-11-15T00:34:15.509009Z",
     "shell.execute_reply": "2022-11-15T00:34:15.507991Z"
    },
    "papermill": {
     "duration": 0.020043,
     "end_time": "2022-11-15T00:34:15.511057",
     "exception": false,
     "start_time": "2022-11-15T00:34:15.491014",
     "status": "completed"
    },
    "tags": []
   },
   "outputs": [
    {
     "data": {
      "text/plain": [
       "(array([0, 0, 0]), array([ 3378,  7512, 20650]))"
      ]
     },
     "execution_count": 8,
     "metadata": {},
     "output_type": "execute_result"
    }
   ],
   "source": [
    "np.where([date_lengths == 24])"
   ]
  },
  {
   "cell_type": "code",
   "execution_count": 9,
   "id": "3f4935c6",
   "metadata": {
    "execution": {
     "iopub.execute_input": "2022-11-15T00:34:15.531959Z",
     "iopub.status.busy": "2022-11-15T00:34:15.531172Z",
     "iopub.status.idle": "2022-11-15T00:34:15.565918Z",
     "shell.execute_reply": "2022-11-15T00:34:15.564987Z"
    },
    "papermill": {
     "duration": 0.049585,
     "end_time": "2022-11-15T00:34:15.569987",
     "exception": false,
     "start_time": "2022-11-15T00:34:15.520402",
     "status": "completed"
    },
    "tags": []
   },
   "outputs": [
    {
     "name": "stdout",
     "output_type": "stream",
     "text": [
      "Indices with corrupted data: [ 3378  7512 20650]\n"
     ]
    },
    {
     "data": {
      "text/html": [
       "<div>\n",
       "<style scoped>\n",
       "    .dataframe tbody tr th:only-of-type {\n",
       "        vertical-align: middle;\n",
       "    }\n",
       "\n",
       "    .dataframe tbody tr th {\n",
       "        vertical-align: top;\n",
       "    }\n",
       "\n",
       "    .dataframe thead th {\n",
       "        text-align: right;\n",
       "    }\n",
       "</style>\n",
       "<table border=\"1\" class=\"dataframe\">\n",
       "  <thead>\n",
       "    <tr style=\"text-align: right;\">\n",
       "      <th></th>\n",
       "      <th>Date</th>\n",
       "      <th>Time</th>\n",
       "      <th>Latitude</th>\n",
       "      <th>Longitude</th>\n",
       "      <th>Type</th>\n",
       "      <th>Depth</th>\n",
       "      <th>Depth Error</th>\n",
       "      <th>Depth Seismic Stations</th>\n",
       "      <th>Magnitude</th>\n",
       "      <th>Magnitude Type</th>\n",
       "      <th>...</th>\n",
       "      <th>Magnitude Seismic Stations</th>\n",
       "      <th>Azimuthal Gap</th>\n",
       "      <th>Horizontal Distance</th>\n",
       "      <th>Horizontal Error</th>\n",
       "      <th>Root Mean Square</th>\n",
       "      <th>ID</th>\n",
       "      <th>Source</th>\n",
       "      <th>Location Source</th>\n",
       "      <th>Magnitude Source</th>\n",
       "      <th>Status</th>\n",
       "    </tr>\n",
       "  </thead>\n",
       "  <tbody>\n",
       "    <tr>\n",
       "      <th>3378</th>\n",
       "      <td>1975-02-23T02:58:41.000Z</td>\n",
       "      <td>1975-02-23T02:58:41.000Z</td>\n",
       "      <td>8.017</td>\n",
       "      <td>124.075</td>\n",
       "      <td>Earthquake</td>\n",
       "      <td>623.0</td>\n",
       "      <td>NaN</td>\n",
       "      <td>NaN</td>\n",
       "      <td>5.6</td>\n",
       "      <td>MB</td>\n",
       "      <td>...</td>\n",
       "      <td>NaN</td>\n",
       "      <td>NaN</td>\n",
       "      <td>NaN</td>\n",
       "      <td>NaN</td>\n",
       "      <td>NaN</td>\n",
       "      <td>USP0000A09</td>\n",
       "      <td>US</td>\n",
       "      <td>US</td>\n",
       "      <td>US</td>\n",
       "      <td>Reviewed</td>\n",
       "    </tr>\n",
       "    <tr>\n",
       "      <th>7512</th>\n",
       "      <td>1985-04-28T02:53:41.530Z</td>\n",
       "      <td>1985-04-28T02:53:41.530Z</td>\n",
       "      <td>-32.998</td>\n",
       "      <td>-71.766</td>\n",
       "      <td>Earthquake</td>\n",
       "      <td>33.0</td>\n",
       "      <td>NaN</td>\n",
       "      <td>NaN</td>\n",
       "      <td>5.6</td>\n",
       "      <td>MW</td>\n",
       "      <td>...</td>\n",
       "      <td>NaN</td>\n",
       "      <td>NaN</td>\n",
       "      <td>NaN</td>\n",
       "      <td>NaN</td>\n",
       "      <td>1.30</td>\n",
       "      <td>USP0002E81</td>\n",
       "      <td>US</td>\n",
       "      <td>US</td>\n",
       "      <td>HRV</td>\n",
       "      <td>Reviewed</td>\n",
       "    </tr>\n",
       "    <tr>\n",
       "      <th>20650</th>\n",
       "      <td>2011-03-13T02:23:34.520Z</td>\n",
       "      <td>2011-03-13T02:23:34.520Z</td>\n",
       "      <td>36.344</td>\n",
       "      <td>142.344</td>\n",
       "      <td>Earthquake</td>\n",
       "      <td>10.1</td>\n",
       "      <td>13.9</td>\n",
       "      <td>289.0</td>\n",
       "      <td>5.8</td>\n",
       "      <td>MWC</td>\n",
       "      <td>...</td>\n",
       "      <td>NaN</td>\n",
       "      <td>32.3</td>\n",
       "      <td>NaN</td>\n",
       "      <td>NaN</td>\n",
       "      <td>1.06</td>\n",
       "      <td>USP000HWQP</td>\n",
       "      <td>US</td>\n",
       "      <td>US</td>\n",
       "      <td>GCMT</td>\n",
       "      <td>Reviewed</td>\n",
       "    </tr>\n",
       "  </tbody>\n",
       "</table>\n",
       "<p>3 rows × 21 columns</p>\n",
       "</div>"
      ],
      "text/plain": [
       "                           Date                      Time  Latitude  \\\n",
       "3378   1975-02-23T02:58:41.000Z  1975-02-23T02:58:41.000Z     8.017   \n",
       "7512   1985-04-28T02:53:41.530Z  1985-04-28T02:53:41.530Z   -32.998   \n",
       "20650  2011-03-13T02:23:34.520Z  2011-03-13T02:23:34.520Z    36.344   \n",
       "\n",
       "       Longitude        Type  Depth  Depth Error  Depth Seismic Stations  \\\n",
       "3378     124.075  Earthquake  623.0          NaN                     NaN   \n",
       "7512     -71.766  Earthquake   33.0          NaN                     NaN   \n",
       "20650    142.344  Earthquake   10.1         13.9                   289.0   \n",
       "\n",
       "       Magnitude Magnitude Type  ...  Magnitude Seismic Stations  \\\n",
       "3378         5.6             MB  ...                         NaN   \n",
       "7512         5.6             MW  ...                         NaN   \n",
       "20650        5.8            MWC  ...                         NaN   \n",
       "\n",
       "       Azimuthal Gap  Horizontal Distance  Horizontal Error  Root Mean Square  \\\n",
       "3378             NaN                  NaN               NaN               NaN   \n",
       "7512             NaN                  NaN               NaN              1.30   \n",
       "20650           32.3                  NaN               NaN              1.06   \n",
       "\n",
       "               ID Source Location Source Magnitude Source    Status  \n",
       "3378   USP0000A09     US              US               US  Reviewed  \n",
       "7512   USP0002E81     US              US              HRV  Reviewed  \n",
       "20650  USP000HWQP     US              US             GCMT  Reviewed  \n",
       "\n",
       "[3 rows x 21 columns]"
      ]
     },
     "execution_count": 9,
     "metadata": {},
     "output_type": "execute_result"
    }
   ],
   "source": [
    "indices = np.where([date_lengths == 24])[1]\n",
    "print('Indices with corrupted data:', indices)\n",
    "earthquakes.loc[indices]"
   ]
  },
  {
   "cell_type": "markdown",
   "id": "44e281be",
   "metadata": {
    "papermill": {
     "duration": 0.009858,
     "end_time": "2022-11-15T00:34:15.593467",
     "exception": false,
     "start_time": "2022-11-15T00:34:15.583609",
     "status": "completed"
    },
    "tags": []
   },
   "source": [
    "Given all of this information, it's your turn to create a new column \"date_parsed\" in the `earthquakes` dataset that has correctly parsed dates in it.  \n",
    "\n",
    "**Note**: When completing this problem, you are allowed to (but are not required to) amend the entries in the \"Date\" and \"Time\" columns.  Do not remove any rows from the dataset."
   ]
  },
  {
   "cell_type": "code",
   "execution_count": 10,
   "id": "66397ccf",
   "metadata": {
    "execution": {
     "iopub.execute_input": "2022-11-15T00:34:15.617401Z",
     "iopub.status.busy": "2022-11-15T00:34:15.616443Z",
     "iopub.status.idle": "2022-11-15T00:34:15.629340Z",
     "shell.execute_reply": "2022-11-15T00:34:15.628204Z"
    },
    "papermill": {
     "duration": 0.027477,
     "end_time": "2022-11-15T00:34:15.631882",
     "exception": false,
     "start_time": "2022-11-15T00:34:15.604405",
     "status": "completed"
    },
    "tags": []
   },
   "outputs": [
    {
     "data": {
      "text/plain": [
       "3378     1975-02-23T02:58:41.000Z\n",
       "7512     1985-04-28T02:53:41.530Z\n",
       "20650    2011-03-13T02:23:34.520Z\n",
       "Name: Date, dtype: object"
      ]
     },
     "execution_count": 10,
     "metadata": {},
     "output_type": "execute_result"
    }
   ],
   "source": [
    "earthquakes.loc[indices].Date"
   ]
  },
  {
   "cell_type": "code",
   "execution_count": 11,
   "id": "c72d8e5d",
   "metadata": {
    "execution": {
     "iopub.execute_input": "2022-11-15T00:34:15.654360Z",
     "iopub.status.busy": "2022-11-15T00:34:15.653927Z",
     "iopub.status.idle": "2022-11-15T00:34:15.660575Z",
     "shell.execute_reply": "2022-11-15T00:34:15.659545Z"
    },
    "papermill": {
     "duration": 0.020186,
     "end_time": "2022-11-15T00:34:15.662885",
     "exception": false,
     "start_time": "2022-11-15T00:34:15.642699",
     "status": "completed"
    },
    "tags": []
   },
   "outputs": [
    {
     "data": {
      "text/plain": [
       "array([ 3378,  7512, 20650])"
      ]
     },
     "execution_count": 11,
     "metadata": {},
     "output_type": "execute_result"
    }
   ],
   "source": [
    "indices"
   ]
  },
  {
   "cell_type": "code",
   "execution_count": null,
   "id": "c486ede6",
   "metadata": {
    "execution": {
     "iopub.execute_input": "2022-11-10T20:23:54.859104Z",
     "iopub.status.busy": "2022-11-10T20:23:54.858641Z",
     "iopub.status.idle": "2022-11-10T20:23:54.874815Z",
     "shell.execute_reply": "2022-11-10T20:23:54.873100Z",
     "shell.execute_reply.started": "2022-11-10T20:23:54.859067Z"
    },
    "papermill": {
     "duration": 0.009306,
     "end_time": "2022-11-15T00:34:15.682322",
     "exception": false,
     "start_time": "2022-11-15T00:34:15.673016",
     "status": "completed"
    },
    "tags": []
   },
   "outputs": [],
   "source": []
  },
  {
   "cell_type": "code",
   "execution_count": 12,
   "id": "35adc143",
   "metadata": {
    "execution": {
     "iopub.execute_input": "2022-11-15T00:34:15.704781Z",
     "iopub.status.busy": "2022-11-15T00:34:15.703616Z",
     "iopub.status.idle": "2022-11-15T00:34:15.758599Z",
     "shell.execute_reply": "2022-11-15T00:34:15.757474Z"
    },
    "papermill": {
     "duration": 0.068566,
     "end_time": "2022-11-15T00:34:15.760789",
     "exception": false,
     "start_time": "2022-11-15T00:34:15.692223",
     "status": "completed"
    },
    "tags": []
   },
   "outputs": [
    {
     "data": {
      "application/javascript": [
       "parent.postMessage({\"jupyterEvent\": \"custom.exercise_interaction\", \"data\": {\"outcomeType\": 1, \"valueTowardsCompletion\": 0.25, \"interactionType\": 1, \"questionType\": 2, \"questionId\": \"2_ConvertToDatetime\", \"learnToolsVersion\": \"0.3.4\", \"failureMessage\": \"\", \"exceptionClass\": \"\", \"trace\": \"\"}}, \"*\")"
      ],
      "text/plain": [
       "<IPython.core.display.Javascript object>"
      ]
     },
     "metadata": {},
     "output_type": "display_data"
    },
    {
     "data": {
      "text/markdown": [
       "<span style=\"color:#33cc33\">Correct</span>"
      ],
      "text/plain": [
       "Correct"
      ]
     },
     "metadata": {},
     "output_type": "display_data"
    }
   ],
   "source": [
    "# TODO: Your code here\n",
    "\n",
    "earthquakes.loc[3378,'Date']=\"02/23/1975\"\n",
    "earthquakes.loc[7512,'Date']=\"04/28/1985\"\n",
    "earthquakes.loc[20650,'Date']=\"03/13/2011\"\n",
    "\n",
    "earthquakes['date_parsed']=pd.to_datetime(earthquakes['Date'],format=\"%m/%d/%Y\")\n",
    "\n",
    "# Check your answer\n",
    "q2.check()"
   ]
  },
  {
   "cell_type": "code",
   "execution_count": 13,
   "id": "5130ecfc",
   "metadata": {
    "execution": {
     "iopub.execute_input": "2022-11-15T00:34:15.782128Z",
     "iopub.status.busy": "2022-11-15T00:34:15.781657Z",
     "iopub.status.idle": "2022-11-15T00:34:15.786455Z",
     "shell.execute_reply": "2022-11-15T00:34:15.785387Z"
    },
    "papermill": {
     "duration": 0.018209,
     "end_time": "2022-11-15T00:34:15.788822",
     "exception": false,
     "start_time": "2022-11-15T00:34:15.770613",
     "status": "completed"
    },
    "tags": []
   },
   "outputs": [],
   "source": [
    "# Lines below will give you a hint or solution code\n",
    "#q2.hint()\n",
    "#q2.solution()"
   ]
  },
  {
   "cell_type": "markdown",
   "id": "353d1bce",
   "metadata": {
    "papermill": {
     "duration": 0.009532,
     "end_time": "2022-11-15T00:34:15.808243",
     "exception": false,
     "start_time": "2022-11-15T00:34:15.798711",
     "status": "completed"
    },
    "tags": []
   },
   "source": [
    "# 3) Select the day of the month\n",
    "\n",
    "Create a Pandas Series `day_of_month_earthquakes` containing the day of the month from the \"date_parsed\" column."
   ]
  },
  {
   "cell_type": "code",
   "execution_count": 14,
   "id": "c50c8480",
   "metadata": {
    "execution": {
     "iopub.execute_input": "2022-11-15T00:34:15.831577Z",
     "iopub.status.busy": "2022-11-15T00:34:15.831064Z",
     "iopub.status.idle": "2022-11-15T00:34:15.846455Z",
     "shell.execute_reply": "2022-11-15T00:34:15.844947Z"
    },
    "papermill": {
     "duration": 0.030771,
     "end_time": "2022-11-15T00:34:15.848850",
     "exception": false,
     "start_time": "2022-11-15T00:34:15.818079",
     "status": "completed"
    },
    "tags": []
   },
   "outputs": [
    {
     "name": "stdout",
     "output_type": "stream",
     "text": [
      "0         2\n",
      "1         4\n",
      "2         5\n",
      "3         8\n",
      "4         9\n",
      "         ..\n",
      "23407    28\n",
      "23408    28\n",
      "23409    28\n",
      "23410    29\n",
      "23411    30\n",
      "Name: date_parsed, Length: 23412, dtype: int64\n"
     ]
    },
    {
     "data": {
      "application/javascript": [
       "parent.postMessage({\"jupyterEvent\": \"custom.exercise_interaction\", \"data\": {\"outcomeType\": 1, \"valueTowardsCompletion\": 0.25, \"interactionType\": 1, \"questionType\": 1, \"questionId\": \"3_DayOfMonth\", \"learnToolsVersion\": \"0.3.4\", \"failureMessage\": \"\", \"exceptionClass\": \"\", \"trace\": \"\"}}, \"*\")"
      ],
      "text/plain": [
       "<IPython.core.display.Javascript object>"
      ]
     },
     "metadata": {},
     "output_type": "display_data"
    },
    {
     "data": {
      "text/markdown": [
       "<span style=\"color:#33cc33\">Correct</span>"
      ],
      "text/plain": [
       "Correct"
      ]
     },
     "metadata": {},
     "output_type": "display_data"
    }
   ],
   "source": [
    "# try to get the day of the month from the date column\n",
    "day_of_month_earthquakes = earthquakes.date_parsed.dt.day\n",
    "print(day_of_month_earthquakes)\n",
    "\n",
    "# Check your answer\n",
    "q3.check()"
   ]
  },
  {
   "cell_type": "code",
   "execution_count": 15,
   "id": "02eae6e3",
   "metadata": {
    "execution": {
     "iopub.execute_input": "2022-11-15T00:34:15.872443Z",
     "iopub.status.busy": "2022-11-15T00:34:15.871424Z",
     "iopub.status.idle": "2022-11-15T00:34:15.876001Z",
     "shell.execute_reply": "2022-11-15T00:34:15.875021Z"
    },
    "papermill": {
     "duration": 0.018731,
     "end_time": "2022-11-15T00:34:15.878405",
     "exception": false,
     "start_time": "2022-11-15T00:34:15.859674",
     "status": "completed"
    },
    "tags": []
   },
   "outputs": [],
   "source": [
    "# Lines below will give you a hint or solution code\n",
    "#q3.hint()\n",
    "#q3.solution()"
   ]
  },
  {
   "cell_type": "markdown",
   "id": "900bf038",
   "metadata": {
    "papermill": {
     "duration": 0.009692,
     "end_time": "2022-11-15T00:34:15.898342",
     "exception": false,
     "start_time": "2022-11-15T00:34:15.888650",
     "status": "completed"
    },
    "tags": []
   },
   "source": [
    "# 4) Plot the day of the month to check the date parsing\n",
    "\n",
    "Plot the days of the month from your earthquake dataset."
   ]
  },
  {
   "cell_type": "code",
   "execution_count": 16,
   "id": "539303d0",
   "metadata": {
    "execution": {
     "iopub.execute_input": "2022-11-15T00:34:15.920664Z",
     "iopub.status.busy": "2022-11-15T00:34:15.920190Z",
     "iopub.status.idle": "2022-11-15T00:34:16.247279Z",
     "shell.execute_reply": "2022-11-15T00:34:16.246392Z"
    },
    "papermill": {
     "duration": 0.341035,
     "end_time": "2022-11-15T00:34:16.249452",
     "exception": false,
     "start_time": "2022-11-15T00:34:15.908417",
     "status": "completed"
    },
    "tags": []
   },
   "outputs": [
    {
     "data": {
      "text/plain": [
       "<AxesSubplot:xlabel='date_parsed', ylabel='Count'>"
      ]
     },
     "execution_count": 16,
     "metadata": {},
     "output_type": "execute_result"
    },
    {
     "data": {
      "image/png": "[encoded data removed]",
      "text/plain": [
       "<Figure size 432x288 with 1 Axes>"
      ]
     },
     "metadata": {
      "needs_background": "light"
     },
     "output_type": "display_data"
    }
   ],
   "source": [
    "# TODO: Your code here!\n",
    "sns.histplot(day_of_month_earthquakes)\n"
   ]
  },
  {
   "cell_type": "markdown",
   "id": "41a7fa7d",
   "metadata": {
    "papermill": {
     "duration": 0.009958,
     "end_time": "2022-11-15T00:34:16.269949",
     "exception": false,
     "start_time": "2022-11-15T00:34:16.259991",
     "status": "completed"
    },
    "tags": []
   },
   "source": [
    "Does the graph make sense to you?"
   ]
  },
  {
   "cell_type": "code",
   "execution_count": 17,
   "id": "88ab8dd2",
   "metadata": {
    "execution": {
     "iopub.execute_input": "2022-11-15T00:34:16.293049Z",
     "iopub.status.busy": "2022-11-15T00:34:16.292325Z",
     "iopub.status.idle": "2022-11-15T00:34:16.301555Z",
     "shell.execute_reply": "2022-11-15T00:34:16.300407Z"
    },
    "papermill": {
     "duration": 0.023559,
     "end_time": "2022-11-15T00:34:16.303747",
     "exception": false,
     "start_time": "2022-11-15T00:34:16.280188",
     "status": "completed"
    },
    "tags": []
   },
   "outputs": [
    {
     "data": {
      "application/javascript": [
       "parent.postMessage({\"jupyterEvent\": \"custom.exercise_interaction\", \"data\": {\"outcomeType\": 1, \"valueTowardsCompletion\": 0.25, \"interactionType\": 1, \"questionType\": 4, \"questionId\": \"4_PlotDayOfMonth\", \"learnToolsVersion\": \"0.3.4\", \"failureMessage\": \"\", \"exceptionClass\": \"\", \"trace\": \"\"}}, \"*\")"
      ],
      "text/plain": [
       "<IPython.core.display.Javascript object>"
      ]
     },
     "metadata": {},
     "output_type": "display_data"
    },
    {
     "data": {
      "text/markdown": [
       "<span style=\"color:#33cc33\">Correct:</span> \n",
       "\n",
       "The graph should make sense: it shows a relatively even distribution in days of the month,which is what we would expect."
      ],
      "text/plain": [
       "Correct: \n",
       "\n",
       "The graph should make sense: it shows a relatively even distribution in days of the month,which is what we would expect."
      ]
     },
     "metadata": {},
     "output_type": "display_data"
    }
   ],
   "source": [
    "# Check your answer (Run this code cell to receive credit!)\n",
    "q4.check()"
   ]
  },
  {
   "cell_type": "code",
   "execution_count": 18,
   "id": "cc060864",
   "metadata": {
    "execution": {
     "iopub.execute_input": "2022-11-15T00:34:16.327363Z",
     "iopub.status.busy": "2022-11-15T00:34:16.326450Z",
     "iopub.status.idle": "2022-11-15T00:34:16.330943Z",
     "shell.execute_reply": "2022-11-15T00:34:16.330006Z"
    },
    "papermill": {
     "duration": 0.018815,
     "end_time": "2022-11-15T00:34:16.333246",
     "exception": false,
     "start_time": "2022-11-15T00:34:16.314431",
     "status": "completed"
    },
    "tags": []
   },
   "outputs": [],
   "source": [
    "# Line below will give you a hint\n",
    "#q4.hint()"
   ]
  },
  {
   "cell_type": "markdown",
   "id": "f752da09",
   "metadata": {
    "papermill": {
     "duration": 0.010353,
     "end_time": "2022-11-15T00:34:16.354375",
     "exception": false,
     "start_time": "2022-11-15T00:34:16.344022",
     "status": "completed"
    },
    "tags": []
   },
   "source": [
    "# (Optional) Bonus Challenge\n",
    "\n",
    "For an extra challenge, you'll work with a [Smithsonian dataset](https://www.kaggle.com/smithsonian/volcanic-eruptions) that documents Earth's volcanoes and their eruptive history over the past 10,000 years \n",
    "\n",
    "Run the next code cell to load the data."
   ]
  },
  {
   "cell_type": "code",
   "execution_count": 19,
   "id": "b2aa85f7",
   "metadata": {
    "execution": {
     "iopub.execute_input": "2022-11-15T00:34:16.378064Z",
     "iopub.status.busy": "2022-11-15T00:34:16.377064Z",
     "iopub.status.idle": "2022-11-15T00:34:16.404065Z",
     "shell.execute_reply": "2022-11-15T00:34:16.402890Z"
    },
    "papermill": {
     "duration": 0.041828,
     "end_time": "2022-11-15T00:34:16.406928",
     "exception": false,
     "start_time": "2022-11-15T00:34:16.365100",
     "status": "completed"
    },
    "tags": []
   },
   "outputs": [],
   "source": [
    "volcanos = pd.read_csv(\"../input/volcanic-eruptions/database.csv\")"
   ]
  },
  {
   "cell_type": "markdown",
   "id": "530c25f4",
   "metadata": {
    "papermill": {
     "duration": 0.010587,
     "end_time": "2022-11-15T00:34:16.428711",
     "exception": false,
     "start_time": "2022-11-15T00:34:16.418124",
     "status": "completed"
    },
    "tags": []
   },
   "source": [
    "Try parsing the column \"Last Known Eruption\" from the `volcanos` dataframe. This column contains a mixture of text (\"Unknown\") and years both before the common era (BCE, also known as BC) and in the common era (CE, also known as AD)."
   ]
  },
  {
   "cell_type": "code",
   "execution_count": 20,
   "id": "56d2c68f",
   "metadata": {
    "execution": {
     "iopub.execute_input": "2022-11-15T00:34:16.452738Z",
     "iopub.status.busy": "2022-11-15T00:34:16.452305Z",
     "iopub.status.idle": "2022-11-15T00:34:16.460105Z",
     "shell.execute_reply": "2022-11-15T00:34:16.459228Z"
    },
    "papermill": {
     "duration": 0.022706,
     "end_time": "2022-11-15T00:34:16.462297",
     "exception": false,
     "start_time": "2022-11-15T00:34:16.439591",
     "status": "completed"
    },
    "tags": []
   },
   "outputs": [
    {
     "data": {
      "text/plain": [
       "764     Unknown\n",
       "1069    1996 CE\n",
       "34      1855 CE\n",
       "489     2016 CE\n",
       "9       1302 CE\n",
       "Name: Last Known Eruption, dtype: object"
      ]
     },
     "execution_count": 20,
     "metadata": {},
     "output_type": "execute_result"
    }
   ],
   "source": [
    "volcanos['Last Known Eruption'].sample(5)"
   ]
  },
  {
   "cell_type": "code",
   "execution_count": 21,
   "id": "3c40c24d",
   "metadata": {
    "execution": {
     "iopub.execute_input": "2022-11-15T00:34:16.486635Z",
     "iopub.status.busy": "2022-11-15T00:34:16.485838Z",
     "iopub.status.idle": "2022-11-15T00:34:16.495222Z",
     "shell.execute_reply": "2022-11-15T00:34:16.494103Z"
    },
    "papermill": {
     "duration": 0.023996,
     "end_time": "2022-11-15T00:34:16.497345",
     "exception": false,
     "start_time": "2022-11-15T00:34:16.473349",
     "status": "completed"
    },
    "tags": []
   },
   "outputs": [
    {
     "data": {
      "text/plain": [
       "7    1312\n",
       "8     129\n",
       "6      62\n",
       "5       3\n",
       "9       1\n",
       "4       1\n",
       "Name: Last Known Eruption, dtype: int64"
      ]
     },
     "execution_count": 21,
     "metadata": {},
     "output_type": "execute_result"
    }
   ],
   "source": [
    "date_lengths=volcanos['Last Known Eruption'].str.len()\n",
    "date_lengths.value_counts()"
   ]
  },
  {
   "cell_type": "code",
   "execution_count": 22,
   "id": "4be10a8d",
   "metadata": {
    "execution": {
     "iopub.execute_input": "2022-11-15T00:34:16.522004Z",
     "iopub.status.busy": "2022-11-15T00:34:16.521242Z",
     "iopub.status.idle": "2022-11-15T00:34:16.539453Z",
     "shell.execute_reply": "2022-11-15T00:34:16.538199Z"
    },
    "papermill": {
     "duration": 0.033038,
     "end_time": "2022-11-15T00:34:16.541827",
     "exception": false,
     "start_time": "2022-11-15T00:34:16.508789",
     "status": "completed"
    },
    "tags": []
   },
   "outputs": [
    {
     "name": "stdout",
     "output_type": "stream",
     "text": [
      "[136]\n"
     ]
    },
    {
     "data": {
      "text/html": [
       "<div>\n",
       "<style scoped>\n",
       "    .dataframe tbody tr th:only-of-type {\n",
       "        vertical-align: middle;\n",
       "    }\n",
       "\n",
       "    .dataframe tbody tr th {\n",
       "        vertical-align: top;\n",
       "    }\n",
       "\n",
       "    .dataframe thead th {\n",
       "        text-align: right;\n",
       "    }\n",
       "</style>\n",
       "<table border=\"1\" class=\"dataframe\">\n",
       "  <thead>\n",
       "    <tr style=\"text-align: right;\">\n",
       "      <th></th>\n",
       "      <th>Number</th>\n",
       "      <th>Name</th>\n",
       "      <th>Country</th>\n",
       "      <th>Region</th>\n",
       "      <th>Type</th>\n",
       "      <th>Activity Evidence</th>\n",
       "      <th>Last Known Eruption</th>\n",
       "      <th>Latitude</th>\n",
       "      <th>Longitude</th>\n",
       "      <th>Elevation (Meters)</th>\n",
       "      <th>Dominant Rock Type</th>\n",
       "      <th>Tectonic Setting</th>\n",
       "    </tr>\n",
       "  </thead>\n",
       "  <tbody>\n",
       "    <tr>\n",
       "      <th>136</th>\n",
       "      <td>222161</td>\n",
       "      <td>Igwisi Hills</td>\n",
       "      <td>Tanzania</td>\n",
       "      <td>Africa and Red Sea</td>\n",
       "      <td>Pyroclastic cone(s)</td>\n",
       "      <td>Eruption Dated</td>\n",
       "      <td>10450 BCE</td>\n",
       "      <td>-4.889</td>\n",
       "      <td>31.933</td>\n",
       "      <td>1146</td>\n",
       "      <td>Foidite</td>\n",
       "      <td>Rift Zone / Continental Crust (&gt;25 km)</td>\n",
       "    </tr>\n",
       "  </tbody>\n",
       "</table>\n",
       "</div>"
      ],
      "text/plain": [
       "     Number          Name   Country              Region                 Type  \\\n",
       "136  222161  Igwisi Hills  Tanzania  Africa and Red Sea  Pyroclastic cone(s)   \n",
       "\n",
       "    Activity Evidence Last Known Eruption  Latitude  Longitude  \\\n",
       "136    Eruption Dated           10450 BCE    -4.889     31.933   \n",
       "\n",
       "     Elevation (Meters) Dominant Rock Type  \\\n",
       "136                1146            Foidite   \n",
       "\n",
       "                           Tectonic Setting  \n",
       "136  Rift Zone / Continental Crust (>25 km)  "
      ]
     },
     "execution_count": 22,
     "metadata": {},
     "output_type": "execute_result"
    }
   ],
   "source": [
    "indices=np.where([date_lengths == 9])[1]\n",
    "print(indices)\n",
    "volcanos.loc[indices]"
   ]
  },
  {
   "cell_type": "markdown",
   "id": "ea759c48",
   "metadata": {
    "papermill": {
     "duration": 0.010817,
     "end_time": "2022-11-15T00:34:16.564092",
     "exception": false,
     "start_time": "2022-11-15T00:34:16.553275",
     "status": "completed"
    },
    "tags": []
   },
   "source": [
    "# (Optional) More practice\n",
    "\n",
    "If you're interested in graphing time series, [check out this tutorial](https://www.kaggle.com/residentmario/time-series-plotting-optional).\n",
    "\n",
    "You can also look into passing columns that you know have dates in them  the `parse_dates` argument in `read_csv`. (The documention [is here](https://pandas.pydata.org/pandas-docs/stable/generated/pandas.read_csv.html).) Do note that this method can be very slow, but depending on your needs it may sometimes be handy to use.\n",
    "\n",
    "# Keep going\n",
    "\n",
    "In the next lesson, learn how to [**work with character encodings**](https://www.kaggle.com/alexisbcook/character-encodings)."
   ]
  },
  {
   "cell_type": "markdown",
   "id": "e9e3ee44",
   "metadata": {
    "papermill": {
     "duration": 0.012443,
     "end_time": "2022-11-15T00:34:16.587513",
     "exception": false,
     "start_time": "2022-11-15T00:34:16.575070",
     "status": "completed"
    },
    "tags": []
   },
   "source": [
    "---\n",
    "\n",
    "\n",
    "\n",
    "\n",
    "*Have questions or comments? Visit the [course discussion forum](https://www.kaggle.com/learn/data-cleaning/discussion) to chat with other learners.*"
   ]
  }
 ],
 "metadata": {
  "kernelspec": {
   "display_name": "Python 3",
   "language": "python",
   "name": "python3"
  },
  "language_info": {
   "codemirror_mode": {
    "name": "ipython",
    "version": 3
   },
   "file_extension": ".py",
   "mimetype": "text/x-python",
   "name": "python",
   "nbconvert_exporter": "python",
   "pygments_lexer": "ipython3",
   "version": "3.7.12"
  },
  "papermill": {
   "default_parameters": {},
   "duration": 12.460391,
   "end_time": "2022-11-15T00:34:17.423154",
   "environment_variables": {},
   "exception": null,
   "input_path": "__notebook__.ipynb",
   "output_path": "__notebook__.ipynb",
   "parameters": {},
   "start_time": "2022-11-15T00:34:04.962763",
   "version": "2.3.4"
  }
 },
 "nbformat": 4,
 "nbformat_minor": 5
}
